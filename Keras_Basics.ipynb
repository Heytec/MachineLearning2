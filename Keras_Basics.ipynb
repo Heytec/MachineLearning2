{
  "nbformat": 4,
  "nbformat_minor": 0,
  "metadata": {
    "colab": {
      "name": "Keras Basics.ipynb",
      "provenance": [],
      "collapsed_sections": [],
      "authorship_tag": "ABX9TyMqNNIlv52quRk1ijc99tBw",
      "include_colab_link": true
    },
    "kernelspec": {
      "name": "python3",
      "display_name": "Python 3"
    },
    "accelerator": "GPU"
  },
  "cells": [
    {
      "cell_type": "markdown",
      "metadata": {
        "id": "view-in-github",
        "colab_type": "text"
      },
      "source": [
        "<a href=\"https://colab.research.google.com/github/Heytec/MachineLearning2/blob/master/Keras_Basics.ipynb\" target=\"_parent\"><img src=\"https://colab.research.google.com/assets/colab-badge.svg\" alt=\"Open In Colab\"/></a>"
      ]
    },
    {
      "cell_type": "code",
      "metadata": {
        "id": "S9LHsu36iCh8",
        "colab_type": "code",
        "outputId": "bcad3e82-2b57-49ec-b602-f9fc806ac60f",
        "colab": {
          "base_uri": "https://localhost:8080/",
          "height": 80
        }
      },
      "source": [
        "import tensorflow as tf"
      ],
      "execution_count": 1,
      "outputs": [
        {
          "output_type": "display_data",
          "data": {
            "text/html": [
              "<p style=\"color: red;\">\n",
              "The default version of TensorFlow in Colab will soon switch to TensorFlow 2.x.<br>\n",
              "We recommend you <a href=\"https://www.tensorflow.org/guide/migrate\" target=\"_blank\">upgrade</a> now \n",
              "or ensure your notebook will continue to use TensorFlow 1.x via the <code>%tensorflow_version 1.x</code> magic:\n",
              "<a href=\"https://colab.research.google.com/notebooks/tensorflow_version.ipynb\" target=\"_blank\">more info</a>.</p>\n"
            ],
            "text/plain": [
              "<IPython.core.display.HTML object>"
            ]
          },
          "metadata": {
            "tags": []
          }
        }
      ]
    },
    {
      "cell_type": "code",
      "metadata": {
        "id": "eKBHZCQkiWI8",
        "colab_type": "code",
        "outputId": "6816dac9-9cd1-492c-f12f-19afbb886409",
        "colab": {
          "base_uri": "https://localhost:8080/",
          "height": 34
        }
      },
      "source": [
        "%tensorflow_version 2.x"
      ],
      "execution_count": 22,
      "outputs": [
        {
          "output_type": "stream",
          "text": [
            "TensorFlow is already loaded. Please restart the runtime to change versions.\n"
          ],
          "name": "stdout"
        }
      ]
    },
    {
      "cell_type": "code",
      "metadata": {
        "id": "i6JLNWd_quYA",
        "colab_type": "code",
        "colab": {}
      },
      "source": [
        "import tensorflow as tf\n"
      ],
      "execution_count": 0,
      "outputs": []
    },
    {
      "cell_type": "code",
      "metadata": {
        "id": "X7MVMRGFqbIT",
        "colab_type": "code",
        "colab": {
          "base_uri": "https://localhost:8080/",
          "height": 34
        },
        "outputId": "db432e04-dab4-444b-cca2-d2076cc76c8d"
      },
      "source": [
        "tf.__version__\n"
      ],
      "execution_count": 3,
      "outputs": [
        {
          "output_type": "execute_result",
          "data": {
            "text/plain": [
              "'2.1.0'"
            ]
          },
          "metadata": {
            "tags": []
          },
          "execution_count": 3
        }
      ]
    },
    {
      "cell_type": "code",
      "metadata": {
        "id": "91ZVD_5EMvT0",
        "colab_type": "code",
        "colab": {}
      },
      "source": [
        "import pandas as pd\n",
        "import numpy as np \n",
        "import seaborn as sns "
      ],
      "execution_count": 0,
      "outputs": []
    },
    {
      "cell_type": "code",
      "metadata": {
        "id": "gNzqrTEENY1j",
        "colab_type": "code",
        "colab": {}
      },
      "source": [
        "df=pd.read_csv('fake_reg.csv')"
      ],
      "execution_count": 0,
      "outputs": []
    },
    {
      "cell_type": "code",
      "metadata": {
        "id": "Yn_C9spFNhf_",
        "colab_type": "code",
        "colab": {
          "base_uri": "https://localhost:8080/",
          "height": 204
        },
        "outputId": "4b73a665-7657-414e-a9c3-6e28070b9c01"
      },
      "source": [
        "df.head()"
      ],
      "execution_count": 4,
      "outputs": [
        {
          "output_type": "execute_result",
          "data": {
            "text/html": [
              "<div>\n",
              "<style scoped>\n",
              "    .dataframe tbody tr th:only-of-type {\n",
              "        vertical-align: middle;\n",
              "    }\n",
              "\n",
              "    .dataframe tbody tr th {\n",
              "        vertical-align: top;\n",
              "    }\n",
              "\n",
              "    .dataframe thead th {\n",
              "        text-align: right;\n",
              "    }\n",
              "</style>\n",
              "<table border=\"1\" class=\"dataframe\">\n",
              "  <thead>\n",
              "    <tr style=\"text-align: right;\">\n",
              "      <th></th>\n",
              "      <th>price</th>\n",
              "      <th>feature1</th>\n",
              "      <th>feature2</th>\n",
              "    </tr>\n",
              "  </thead>\n",
              "  <tbody>\n",
              "    <tr>\n",
              "      <th>0</th>\n",
              "      <td>461.527929</td>\n",
              "      <td>999.787558</td>\n",
              "      <td>999.766096</td>\n",
              "    </tr>\n",
              "    <tr>\n",
              "      <th>1</th>\n",
              "      <td>548.130011</td>\n",
              "      <td>998.861615</td>\n",
              "      <td>1001.042403</td>\n",
              "    </tr>\n",
              "    <tr>\n",
              "      <th>2</th>\n",
              "      <td>410.297162</td>\n",
              "      <td>1000.070267</td>\n",
              "      <td>998.844015</td>\n",
              "    </tr>\n",
              "    <tr>\n",
              "      <th>3</th>\n",
              "      <td>540.382220</td>\n",
              "      <td>999.952251</td>\n",
              "      <td>1000.440940</td>\n",
              "    </tr>\n",
              "    <tr>\n",
              "      <th>4</th>\n",
              "      <td>546.024553</td>\n",
              "      <td>1000.446011</td>\n",
              "      <td>1000.338531</td>\n",
              "    </tr>\n",
              "  </tbody>\n",
              "</table>\n",
              "</div>"
            ],
            "text/plain": [
              "        price     feature1     feature2\n",
              "0  461.527929   999.787558   999.766096\n",
              "1  548.130011   998.861615  1001.042403\n",
              "2  410.297162  1000.070267   998.844015\n",
              "3  540.382220   999.952251  1000.440940\n",
              "4  546.024553  1000.446011  1000.338531"
            ]
          },
          "metadata": {
            "tags": []
          },
          "execution_count": 4
        }
      ]
    },
    {
      "cell_type": "code",
      "metadata": {
        "id": "ylU4tIpYNlix",
        "colab_type": "code",
        "colab": {
          "base_uri": "https://localhost:8080/",
          "height": 584
        },
        "outputId": "184fd400-8aeb-453a-bf57-872c2a180575"
      },
      "source": [
        "sns.pairplot(df)"
      ],
      "execution_count": 5,
      "outputs": [
        {
          "output_type": "execute_result",
          "data": {
            "text/plain": [
              "<seaborn.axisgrid.PairGrid at 0x7fc1d46244a8>"
            ]
          },
          "metadata": {
            "tags": []
          },
          "execution_count": 5
        },
        {
          "output_type": "display_data",
          "data": {
            "image/png": "[encoded data removed]",
            "text/plain": [
              "<Figure size 540x540 with 12 Axes>"
            ]
          },
          "metadata": {
            "tags": []
          }
        }
      ]
    },
    {
      "cell_type": "code",
      "metadata": {
        "id": "HQQTjGTVPHho",
        "colab_type": "code",
        "colab": {
          "base_uri": "https://localhost:8080/",
          "height": 153
        },
        "outputId": "73a065cf-b4c4-432a-d6dd-498303c1eda9"
      },
      "source": [
        "df.info()"
      ],
      "execution_count": 6,
      "outputs": [
        {
          "output_type": "stream",
          "text": [
            "<class 'pandas.core.frame.DataFrame'>\n",
            "RangeIndex: 1000 entries, 0 to 999\n",
            "Data columns (total 3 columns):\n",
            "price       1000 non-null float64\n",
            "feature1    1000 non-null float64\n",
            "feature2    1000 non-null float64\n",
            "dtypes: float64(3)\n",
            "memory usage: 23.6 KB\n"
          ],
          "name": "stdout"
        }
      ]
    },
    {
      "cell_type": "code",
      "metadata": {
        "id": "E6tx4iOKPNoo",
        "colab_type": "code",
        "colab": {
          "base_uri": "https://localhost:8080/",
          "height": 85
        },
        "outputId": "6459a66c-a057-4a92-a432-76107c9c4d6b"
      },
      "source": [
        "df.isnull().sum()"
      ],
      "execution_count": 7,
      "outputs": [
        {
          "output_type": "execute_result",
          "data": {
            "text/plain": [
              "price       0\n",
              "feature1    0\n",
              "feature2    0\n",
              "dtype: int64"
            ]
          },
          "metadata": {
            "tags": []
          },
          "execution_count": 7
        }
      ]
    },
    {
      "cell_type": "code",
      "metadata": {
        "id": "LcWCZXPlQGpI",
        "colab_type": "code",
        "colab": {
          "base_uri": "https://localhost:8080/",
          "height": 34
        },
        "outputId": "91c1f99d-2330-483e-cee2-e530e6c4c7ee"
      },
      "source": [
        "df.shape"
      ],
      "execution_count": 12,
      "outputs": [
        {
          "output_type": "execute_result",
          "data": {
            "text/plain": [
              "(1000, 3)"
            ]
          },
          "metadata": {
            "tags": []
          },
          "execution_count": 12
        }
      ]
    },
    {
      "cell_type": "code",
      "metadata": {
        "id": "ZvvH0N09QJcA",
        "colab_type": "code",
        "colab": {}
      },
      "source": [
        ""
      ],
      "execution_count": 0,
      "outputs": []
    },
    {
      "cell_type": "code",
      "metadata": {
        "id": "JmQ7qBXKPVSq",
        "colab_type": "code",
        "colab": {}
      },
      "source": [
        "from  sklearn.model_selection import train_test_split"
      ],
      "execution_count": 0,
      "outputs": []
    },
    {
      "cell_type": "code",
      "metadata": {
        "id": "GhZ-stzvPdgq",
        "colab_type": "code",
        "colab": {}
      },
      "source": [
        "X=df[['feature1','feature2']].values"
      ],
      "execution_count": 0,
      "outputs": []
    },
    {
      "cell_type": "code",
      "metadata": {
        "id": "W22CmcvJPpEX",
        "colab_type": "code",
        "colab": {}
      },
      "source": [
        "y=df['price'].values"
      ],
      "execution_count": 0,
      "outputs": []
    },
    {
      "cell_type": "code",
      "metadata": {
        "id": "LWkjdrdCPves",
        "colab_type": "code",
        "colab": {}
      },
      "source": [
        "X_train, X_test, y_train, y_test = train_test_split(X, y, test_size=0.3, random_state=42)"
      ],
      "execution_count": 0,
      "outputs": []
    },
    {
      "cell_type": "code",
      "metadata": {
        "id": "IJO-qAlZq5Sj",
        "colab_type": "code",
        "colab": {}
      },
      "source": [
        "from sklearn.preprocessing import MinMaxScaler"
      ],
      "execution_count": 0,
      "outputs": []
    },
    {
      "cell_type": "code",
      "metadata": {
        "id": "QU4Xr-1tQw-h",
        "colab_type": "code",
        "colab": {}
      },
      "source": [
        "scaler = MinMaxScaler()"
      ],
      "execution_count": 0,
      "outputs": []
    },
    {
      "cell_type": "code",
      "metadata": {
        "id": "SAFUCwYkQ9I3",
        "colab_type": "code",
        "colab": {
          "base_uri": "https://localhost:8080/",
          "height": 34
        },
        "outputId": "8673ad81-8997-4dda-d14d-7c3463a7f52c"
      },
      "source": [
        "scaler.fit(X_train)"
      ],
      "execution_count": 15,
      "outputs": [
        {
          "output_type": "execute_result",
          "data": {
            "text/plain": [
              "MinMaxScaler(copy=True, feature_range=(0, 1))"
            ]
          },
          "metadata": {
            "tags": []
          },
          "execution_count": 15
        }
      ]
    },
    {
      "cell_type": "code",
      "metadata": {
        "id": "-oFk-UroRA5G",
        "colab_type": "code",
        "colab": {}
      },
      "source": [
        "X_train=scaler.transform(X_train)"
      ],
      "execution_count": 0,
      "outputs": []
    },
    {
      "cell_type": "code",
      "metadata": {
        "id": "6qqZFJGxRSg3",
        "colab_type": "code",
        "colab": {}
      },
      "source": [
        "X_test=scaler.transform(X_test)"
      ],
      "execution_count": 0,
      "outputs": []
    },
    {
      "cell_type": "code",
      "metadata": {
        "id": "0ANHF3ytRjl7",
        "colab_type": "code",
        "colab": {
          "base_uri": "https://localhost:8080/",
          "height": 80
        },
        "outputId": "90e1668e-57e2-4d41-f4cf-e6972f194398"
      },
      "source": [
        "from  tensorflow.keras.models import Sequential\n",
        "from  tensorflow.keras.layers import Dense"
      ],
      "execution_count": 20,
      "outputs": [
        {
          "output_type": "display_data",
          "data": {
            "text/html": [
              "<p style=\"color: red;\">\n",
              "The default version of TensorFlow in Colab will soon switch to TensorFlow 2.x.<br>\n",
              "We recommend you <a href=\"https://www.tensorflow.org/guide/migrate\" target=\"_blank\">upgrade</a> now \n",
              "or ensure your notebook will continue to use TensorFlow 1.x via the <code>%tensorflow_version 1.x</code> magic:\n",
              "<a href=\"https://colab.research.google.com/notebooks/tensorflow_version.ipynb\" target=\"_blank\">more info</a>.</p>\n"
            ],
            "text/plain": [
              "<IPython.core.display.HTML object>"
            ]
          },
          "metadata": {
            "tags": []
          }
        }
      ]
    },
    {
      "cell_type": "code",
      "metadata": {
        "id": "Ex4aHxNoSBvA",
        "colab_type": "code",
        "colab": {}
      },
      "source": [
        "#model =Sequential([Dense(4,activation='relu'),\n",
        "                 #  Dense(2,activation='relu'),\n",
        "                #   Dense(1)])"
      ],
      "execution_count": 0,
      "outputs": []
    },
    {
      "cell_type": "code",
      "metadata": {
        "id": "PSAzTJy8S4lt",
        "colab_type": "code",
        "colab": {}
      },
      "source": [
        "model =Sequential()\n",
        "\n",
        "model.add(Dense(4,activation='relu'))\n",
        "model.add(Dense(4,activation='relu'))\n",
        "model.add(Dense(4,activation='relu'))\n",
        "\n",
        "model.add(Dense(1))\n",
        "\n",
        "model.compile(optimizer='Adam',loss='mse')\n",
        "\n"
      ],
      "execution_count": 0,
      "outputs": []
    },
    {
      "cell_type": "code",
      "metadata": {
        "id": "8eIJYxHzUGYm",
        "colab_type": "code",
        "colab": {
          "base_uri": "https://localhost:8080/",
          "height": 1000
        },
        "outputId": "7a2843ec-69f6-479e-c31f-336f3b1f9452"
      },
      "source": [
        "model.fit(X_train,y_train,epochs=250)"
      ],
      "execution_count": 27,
      "outputs": [
        {
          "output_type": "stream",
          "text": [
            "WARNING:tensorflow:From /usr/local/lib/python3.6/dist-packages/tensorflow_core/python/ops/resource_variable_ops.py:1630: calling BaseResourceVariable.__init__ (from tensorflow.python.ops.resource_variable_ops) with constraint is deprecated and will be removed in a future version.\n",
            "Instructions for updating:\n",
            "If using Keras pass *_constraint arguments to layers.\n",
            "Train on 700 samples\n",
            "Epoch 1/250\n",
            "700/700 [==============================] - 9s 13ms/sample - loss: 256712.8613\n",
            "Epoch 2/250\n",
            "700/700 [==============================] - 0s 58us/sample - loss: 256662.2785\n",
            "Epoch 3/250\n",
            "700/700 [==============================] - 0s 63us/sample - loss: 256584.9745\n",
            "Epoch 4/250\n",
            "700/700 [==============================] - 0s 64us/sample - loss: 256472.7173\n",
            "Epoch 5/250\n",
            "700/700 [==============================] - 0s 67us/sample - loss: 256306.1272\n",
            "Epoch 6/250\n",
            "700/700 [==============================] - 0s 63us/sample - loss: 256059.7029\n",
            "Epoch 7/250\n",
            "700/700 [==============================] - 0s 66us/sample - loss: 255702.4909\n",
            "Epoch 8/250\n",
            "700/700 [==============================] - 0s 68us/sample - loss: 255181.2347\n",
            "Epoch 9/250\n",
            "700/700 [==============================] - 0s 64us/sample - loss: 254455.4408\n",
            "Epoch 10/250\n",
            "700/700 [==============================] - 0s 62us/sample - loss: 253459.4184\n",
            "Epoch 11/250\n",
            "700/700 [==============================] - 0s 63us/sample - loss: 252099.3851\n",
            "Epoch 12/250\n",
            "700/700 [==============================] - 0s 61us/sample - loss: 250270.8419\n",
            "Epoch 13/250\n",
            "700/700 [==============================] - 0s 63us/sample - loss: 247889.3129\n",
            "Epoch 14/250\n",
            "700/700 [==============================] - 0s 68us/sample - loss: 244859.9108\n",
            "Epoch 15/250\n",
            "700/700 [==============================] - 0s 65us/sample - loss: 241087.5762\n",
            "Epoch 16/250\n",
            "700/700 [==============================] - 0s 59us/sample - loss: 236495.9800\n",
            "Epoch 17/250\n",
            "700/700 [==============================] - 0s 63us/sample - loss: 230955.8776\n",
            "Epoch 18/250\n",
            "700/700 [==============================] - 0s 62us/sample - loss: 224463.9445\n",
            "Epoch 19/250\n",
            "700/700 [==============================] - 0s 63us/sample - loss: 216882.2358\n",
            "Epoch 20/250\n",
            "700/700 [==============================] - 0s 59us/sample - loss: 208267.0780\n",
            "Epoch 21/250\n",
            "700/700 [==============================] - 0s 58us/sample - loss: 198493.9112\n",
            "Epoch 22/250\n",
            "700/700 [==============================] - 0s 74us/sample - loss: 187684.7662\n",
            "Epoch 23/250\n",
            "700/700 [==============================] - 0s 65us/sample - loss: 175847.1377\n",
            "Epoch 24/250\n",
            "700/700 [==============================] - 0s 59us/sample - loss: 163061.6947\n",
            "Epoch 25/250\n",
            "700/700 [==============================] - 0s 61us/sample - loss: 149516.2383\n",
            "Epoch 26/250\n",
            "700/700 [==============================] - 0s 62us/sample - loss: 135395.6988\n",
            "Epoch 27/250\n",
            "700/700 [==============================] - 0s 71us/sample - loss: 120910.9172\n",
            "Epoch 28/250\n",
            "700/700 [==============================] - 0s 68us/sample - loss: 106287.9248\n",
            "Epoch 29/250\n",
            "700/700 [==============================] - 0s 62us/sample - loss: 91911.1888\n",
            "Epoch 30/250\n",
            "700/700 [==============================] - 0s 59us/sample - loss: 77916.4032\n",
            "Epoch 31/250\n",
            "700/700 [==============================] - 0s 61us/sample - loss: 64891.7237\n",
            "Epoch 32/250\n",
            "700/700 [==============================] - 0s 60us/sample - loss: 52746.7364\n",
            "Epoch 33/250\n",
            "700/700 [==============================] - 0s 63us/sample - loss: 41946.1347\n",
            "Epoch 34/250\n",
            "700/700 [==============================] - 0s 59us/sample - loss: 32684.5134\n",
            "Epoch 35/250\n",
            "700/700 [==============================] - 0s 62us/sample - loss: 24789.8149\n",
            "Epoch 36/250\n",
            "700/700 [==============================] - 0s 72us/sample - loss: 18482.5895\n",
            "Epoch 37/250\n",
            "700/700 [==============================] - 0s 64us/sample - loss: 13575.1647\n",
            "Epoch 38/250\n",
            "700/700 [==============================] - 0s 62us/sample - loss: 9923.0229\n",
            "Epoch 39/250\n",
            "700/700 [==============================] - 0s 67us/sample - loss: 7294.8300\n",
            "Epoch 40/250\n",
            "700/700 [==============================] - 0s 62us/sample - loss: 5501.5858\n",
            "Epoch 41/250\n",
            "700/700 [==============================] - 0s 64us/sample - loss: 4304.4174\n",
            "Epoch 42/250\n",
            "700/700 [==============================] - 0s 61us/sample - loss: 3569.5713\n",
            "Epoch 43/250\n",
            "700/700 [==============================] - 0s 59us/sample - loss: 3110.4697\n",
            "Epoch 44/250\n",
            "700/700 [==============================] - 0s 68us/sample - loss: 2845.1377\n",
            "Epoch 45/250\n",
            "700/700 [==============================] - 0s 72us/sample - loss: 2682.7784\n",
            "Epoch 46/250\n",
            "700/700 [==============================] - 0s 72us/sample - loss: 2598.8111\n",
            "Epoch 47/250\n",
            "700/700 [==============================] - 0s 65us/sample - loss: 2545.1675\n",
            "Epoch 48/250\n",
            "700/700 [==============================] - 0s 66us/sample - loss: 2514.6720\n",
            "Epoch 49/250\n",
            "700/700 [==============================] - 0s 66us/sample - loss: 2493.2223\n",
            "Epoch 50/250\n",
            "700/700 [==============================] - 0s 62us/sample - loss: 2480.0161\n",
            "Epoch 51/250\n",
            "700/700 [==============================] - 0s 61us/sample - loss: 2469.4634\n",
            "Epoch 52/250\n",
            "700/700 [==============================] - 0s 62us/sample - loss: 2459.5091\n",
            "Epoch 53/250\n",
            "700/700 [==============================] - 0s 64us/sample - loss: 2451.1395\n",
            "Epoch 54/250\n",
            "700/700 [==============================] - 0s 69us/sample - loss: 2442.8506\n",
            "Epoch 55/250\n",
            "700/700 [==============================] - 0s 66us/sample - loss: 2434.9677\n",
            "Epoch 56/250\n",
            "700/700 [==============================] - 0s 59us/sample - loss: 2428.4328\n",
            "Epoch 57/250\n",
            "700/700 [==============================] - 0s 64us/sample - loss: 2419.5431\n",
            "Epoch 58/250\n",
            "700/700 [==============================] - 0s 64us/sample - loss: 2409.6283\n",
            "Epoch 59/250\n",
            "700/700 [==============================] - 0s 65us/sample - loss: 2400.9083\n",
            "Epoch 60/250\n",
            "700/700 [==============================] - 0s 67us/sample - loss: 2392.0780\n",
            "Epoch 61/250\n",
            "700/700 [==============================] - 0s 65us/sample - loss: 2384.0372\n",
            "Epoch 62/250\n",
            "700/700 [==============================] - 0s 61us/sample - loss: 2376.7449\n",
            "Epoch 63/250\n",
            "700/700 [==============================] - 0s 70us/sample - loss: 2366.1574\n",
            "Epoch 64/250\n",
            "700/700 [==============================] - 0s 73us/sample - loss: 2357.2164\n",
            "Epoch 65/250\n",
            "700/700 [==============================] - 0s 78us/sample - loss: 2348.0647\n",
            "Epoch 66/250\n",
            "700/700 [==============================] - 0s 57us/sample - loss: 2339.0032\n",
            "Epoch 67/250\n",
            "700/700 [==============================] - 0s 63us/sample - loss: 2330.6488\n",
            "Epoch 68/250\n",
            "700/700 [==============================] - 0s 62us/sample - loss: 2321.1640\n",
            "Epoch 69/250\n",
            "700/700 [==============================] - 0s 63us/sample - loss: 2311.1025\n",
            "Epoch 70/250\n",
            "700/700 [==============================] - 0s 70us/sample - loss: 2301.5779\n",
            "Epoch 71/250\n",
            "700/700 [==============================] - 0s 62us/sample - loss: 2293.4319\n",
            "Epoch 72/250\n",
            "700/700 [==============================] - 0s 61us/sample - loss: 2281.9331\n",
            "Epoch 73/250\n",
            "700/700 [==============================] - 0s 71us/sample - loss: 2272.8351\n",
            "Epoch 74/250\n",
            "700/700 [==============================] - 0s 62us/sample - loss: 2263.0210\n",
            "Epoch 75/250\n",
            "700/700 [==============================] - 0s 64us/sample - loss: 2252.8231\n",
            "Epoch 76/250\n",
            "700/700 [==============================] - 0s 66us/sample - loss: 2243.1534\n",
            "Epoch 77/250\n",
            "700/700 [==============================] - 0s 62us/sample - loss: 2233.7109\n",
            "Epoch 78/250\n",
            "700/700 [==============================] - 0s 62us/sample - loss: 2222.7731\n",
            "Epoch 79/250\n",
            "700/700 [==============================] - 0s 64us/sample - loss: 2212.9807\n",
            "Epoch 80/250\n",
            "700/700 [==============================] - 0s 61us/sample - loss: 2203.5642\n",
            "Epoch 81/250\n",
            "700/700 [==============================] - 0s 66us/sample - loss: 2192.0599\n",
            "Epoch 82/250\n",
            "700/700 [==============================] - 0s 70us/sample - loss: 2181.7588\n",
            "Epoch 83/250\n",
            "700/700 [==============================] - 0s 79us/sample - loss: 2171.0036\n",
            "Epoch 84/250\n",
            "700/700 [==============================] - 0s 70us/sample - loss: 2160.4902\n",
            "Epoch 85/250\n",
            "700/700 [==============================] - 0s 67us/sample - loss: 2149.5577\n",
            "Epoch 86/250\n",
            "700/700 [==============================] - 0s 73us/sample - loss: 2138.7392\n",
            "Epoch 87/250\n",
            "700/700 [==============================] - 0s 75us/sample - loss: 2128.2303\n",
            "Epoch 88/250\n",
            "700/700 [==============================] - 0s 58us/sample - loss: 2118.4036\n",
            "Epoch 89/250\n",
            "700/700 [==============================] - 0s 61us/sample - loss: 2106.1270\n",
            "Epoch 90/250\n",
            "700/700 [==============================] - 0s 62us/sample - loss: 2095.1818\n",
            "Epoch 91/250\n",
            "700/700 [==============================] - 0s 70us/sample - loss: 2085.0681\n",
            "Epoch 92/250\n",
            "700/700 [==============================] - 0s 67us/sample - loss: 2075.0407\n",
            "Epoch 93/250\n",
            "700/700 [==============================] - 0s 60us/sample - loss: 2061.3559\n",
            "Epoch 94/250\n",
            "700/700 [==============================] - 0s 64us/sample - loss: 2050.2461\n",
            "Epoch 95/250\n",
            "700/700 [==============================] - 0s 67us/sample - loss: 2039.2834\n",
            "Epoch 96/250\n",
            "700/700 [==============================] - 0s 65us/sample - loss: 2027.0396\n",
            "Epoch 97/250\n",
            "700/700 [==============================] - 0s 65us/sample - loss: 2015.5731\n",
            "Epoch 98/250\n",
            "700/700 [==============================] - 0s 64us/sample - loss: 2003.6914\n",
            "Epoch 99/250\n",
            "700/700 [==============================] - 0s 63us/sample - loss: 1992.2226\n",
            "Epoch 100/250\n",
            "700/700 [==============================] - 0s 64us/sample - loss: 1980.6889\n",
            "Epoch 101/250\n",
            "700/700 [==============================] - 0s 64us/sample - loss: 1969.0158\n",
            "Epoch 102/250\n",
            "700/700 [==============================] - 0s 62us/sample - loss: 1957.9724\n",
            "Epoch 103/250\n",
            "700/700 [==============================] - 0s 64us/sample - loss: 1945.3100\n",
            "Epoch 104/250\n",
            "700/700 [==============================] - 0s 69us/sample - loss: 1932.5984\n",
            "Epoch 105/250\n",
            "700/700 [==============================] - 0s 67us/sample - loss: 1920.6438\n",
            "Epoch 106/250\n",
            "700/700 [==============================] - 0s 62us/sample - loss: 1909.3349\n",
            "Epoch 107/250\n",
            "700/700 [==============================] - 0s 62us/sample - loss: 1896.2678\n",
            "Epoch 108/250\n",
            "700/700 [==============================] - 0s 70us/sample - loss: 1884.0122\n",
            "Epoch 109/250\n",
            "700/700 [==============================] - 0s 76us/sample - loss: 1871.7023\n",
            "Epoch 110/250\n",
            "700/700 [==============================] - 0s 65us/sample - loss: 1860.3298\n",
            "Epoch 111/250\n",
            "700/700 [==============================] - 0s 66us/sample - loss: 1847.5955\n",
            "Epoch 112/250\n",
            "700/700 [==============================] - 0s 64us/sample - loss: 1835.1451\n",
            "Epoch 113/250\n",
            "700/700 [==============================] - 0s 61us/sample - loss: 1822.0809\n",
            "Epoch 114/250\n",
            "700/700 [==============================] - 0s 61us/sample - loss: 1809.6813\n",
            "Epoch 115/250\n",
            "700/700 [==============================] - 0s 62us/sample - loss: 1796.6367\n",
            "Epoch 116/250\n",
            "700/700 [==============================] - 0s 61us/sample - loss: 1783.8533\n",
            "Epoch 117/250\n",
            "700/700 [==============================] - 0s 62us/sample - loss: 1771.4614\n",
            "Epoch 118/250\n",
            "700/700 [==============================] - 0s 69us/sample - loss: 1758.6947\n",
            "Epoch 119/250\n",
            "700/700 [==============================] - 0s 63us/sample - loss: 1745.3994\n",
            "Epoch 120/250\n",
            "700/700 [==============================] - 0s 61us/sample - loss: 1732.7685\n",
            "Epoch 121/250\n",
            "700/700 [==============================] - 0s 62us/sample - loss: 1719.6619\n",
            "Epoch 122/250\n",
            "700/700 [==============================] - 0s 68us/sample - loss: 1706.6680\n",
            "Epoch 123/250\n",
            "700/700 [==============================] - 0s 62us/sample - loss: 1693.5731\n",
            "Epoch 124/250\n",
            "700/700 [==============================] - 0s 62us/sample - loss: 1681.3101\n",
            "Epoch 125/250\n",
            "700/700 [==============================] - 0s 61us/sample - loss: 1668.4614\n",
            "Epoch 126/250\n",
            "700/700 [==============================] - 0s 64us/sample - loss: 1655.0565\n",
            "Epoch 127/250\n",
            "700/700 [==============================] - 0s 70us/sample - loss: 1641.0946\n",
            "Epoch 128/250\n",
            "700/700 [==============================] - 0s 73us/sample - loss: 1628.0348\n",
            "Epoch 129/250\n",
            "700/700 [==============================] - 0s 65us/sample - loss: 1618.1951\n",
            "Epoch 130/250\n",
            "700/700 [==============================] - 0s 68us/sample - loss: 1601.8932\n",
            "Epoch 131/250\n",
            "700/700 [==============================] - 0s 67us/sample - loss: 1588.4969\n",
            "Epoch 132/250\n",
            "700/700 [==============================] - 0s 60us/sample - loss: 1575.4478\n",
            "Epoch 133/250\n",
            "700/700 [==============================] - 0s 63us/sample - loss: 1561.4485\n",
            "Epoch 134/250\n",
            "700/700 [==============================] - 0s 61us/sample - loss: 1547.9465\n",
            "Epoch 135/250\n",
            "700/700 [==============================] - 0s 68us/sample - loss: 1534.9854\n",
            "Epoch 136/250\n",
            "700/700 [==============================] - 0s 63us/sample - loss: 1520.8846\n",
            "Epoch 137/250\n",
            "700/700 [==============================] - 0s 72us/sample - loss: 1509.1002\n",
            "Epoch 138/250\n",
            "700/700 [==============================] - 0s 67us/sample - loss: 1494.2180\n",
            "Epoch 139/250\n",
            "700/700 [==============================] - 0s 69us/sample - loss: 1480.7009\n",
            "Epoch 140/250\n",
            "700/700 [==============================] - 0s 69us/sample - loss: 1467.1074\n",
            "Epoch 141/250\n",
            "700/700 [==============================] - 0s 65us/sample - loss: 1453.5389\n",
            "Epoch 142/250\n",
            "700/700 [==============================] - 0s 66us/sample - loss: 1440.2337\n",
            "Epoch 143/250\n",
            "700/700 [==============================] - 0s 64us/sample - loss: 1426.2402\n",
            "Epoch 144/250\n",
            "700/700 [==============================] - 0s 60us/sample - loss: 1412.2823\n",
            "Epoch 145/250\n",
            "700/700 [==============================] - 0s 64us/sample - loss: 1399.0548\n",
            "Epoch 146/250\n",
            "700/700 [==============================] - 0s 64us/sample - loss: 1385.6480\n",
            "Epoch 147/250\n",
            "700/700 [==============================] - 0s 64us/sample - loss: 1371.3747\n",
            "Epoch 148/250\n",
            "700/700 [==============================] - 0s 62us/sample - loss: 1357.8377\n",
            "Epoch 149/250\n",
            "700/700 [==============================] - 0s 62us/sample - loss: 1344.0289\n",
            "Epoch 150/250\n",
            "700/700 [==============================] - 0s 70us/sample - loss: 1330.4060\n",
            "Epoch 151/250\n",
            "700/700 [==============================] - 0s 64us/sample - loss: 1318.6203\n",
            "Epoch 152/250\n",
            "700/700 [==============================] - 0s 73us/sample - loss: 1302.9424\n",
            "Epoch 153/250\n",
            "700/700 [==============================] - 0s 64us/sample - loss: 1289.6751\n",
            "Epoch 154/250\n",
            "700/700 [==============================] - 0s 62us/sample - loss: 1275.7552\n",
            "Epoch 155/250\n",
            "700/700 [==============================] - 0s 61us/sample - loss: 1261.6247\n",
            "Epoch 156/250\n",
            "700/700 [==============================] - 0s 71us/sample - loss: 1247.7978\n",
            "Epoch 157/250\n",
            "700/700 [==============================] - 0s 62us/sample - loss: 1234.1386\n",
            "Epoch 158/250\n",
            "700/700 [==============================] - 0s 59us/sample - loss: 1220.3368\n",
            "Epoch 159/250\n",
            "700/700 [==============================] - 0s 63us/sample - loss: 1206.5481\n",
            "Epoch 160/250\n",
            "700/700 [==============================] - 0s 61us/sample - loss: 1194.9850\n",
            "Epoch 161/250\n",
            "700/700 [==============================] - 0s 67us/sample - loss: 1179.9765\n",
            "Epoch 162/250\n",
            "700/700 [==============================] - 0s 61us/sample - loss: 1165.2842\n",
            "Epoch 163/250\n",
            "700/700 [==============================] - 0s 66us/sample - loss: 1151.9024\n",
            "Epoch 164/250\n",
            "700/700 [==============================] - 0s 62us/sample - loss: 1138.1353\n",
            "Epoch 165/250\n",
            "700/700 [==============================] - 0s 68us/sample - loss: 1125.4046\n",
            "Epoch 166/250\n",
            "700/700 [==============================] - 0s 60us/sample - loss: 1110.1830\n",
            "Epoch 167/250\n",
            "700/700 [==============================] - 0s 63us/sample - loss: 1098.4009\n",
            "Epoch 168/250\n",
            "700/700 [==============================] - 0s 63us/sample - loss: 1083.2557\n",
            "Epoch 169/250\n",
            "700/700 [==============================] - 0s 64us/sample - loss: 1069.7800\n",
            "Epoch 170/250\n",
            "700/700 [==============================] - 0s 58us/sample - loss: 1055.7409\n",
            "Epoch 171/250\n",
            "700/700 [==============================] - 0s 63us/sample - loss: 1043.1644\n",
            "Epoch 172/250\n",
            "700/700 [==============================] - 0s 72us/sample - loss: 1031.0283\n",
            "Epoch 173/250\n",
            "700/700 [==============================] - 0s 87us/sample - loss: 1015.3729\n",
            "Epoch 174/250\n",
            "700/700 [==============================] - 0s 91us/sample - loss: 1001.6532\n",
            "Epoch 175/250\n",
            "700/700 [==============================] - 0s 73us/sample - loss: 988.5172\n",
            "Epoch 176/250\n",
            "700/700 [==============================] - 0s 67us/sample - loss: 975.2965\n",
            "Epoch 177/250\n",
            "700/700 [==============================] - 0s 60us/sample - loss: 961.8395\n",
            "Epoch 178/250\n",
            "700/700 [==============================] - 0s 60us/sample - loss: 948.4521\n",
            "Epoch 179/250\n",
            "700/700 [==============================] - 0s 62us/sample - loss: 935.5181\n",
            "Epoch 180/250\n",
            "700/700 [==============================] - 0s 66us/sample - loss: 922.9213\n",
            "Epoch 181/250\n",
            "700/700 [==============================] - 0s 63us/sample - loss: 909.5909\n",
            "Epoch 182/250\n",
            "700/700 [==============================] - 0s 63us/sample - loss: 895.7000\n",
            "Epoch 183/250\n",
            "700/700 [==============================] - 0s 61us/sample - loss: 884.0166\n",
            "Epoch 184/250\n",
            "700/700 [==============================] - 0s 65us/sample - loss: 869.9709\n",
            "Epoch 185/250\n",
            "700/700 [==============================] - 0s 76us/sample - loss: 856.0692\n",
            "Epoch 186/250\n",
            "700/700 [==============================] - 0s 68us/sample - loss: 843.5071\n",
            "Epoch 187/250\n",
            "700/700 [==============================] - 0s 61us/sample - loss: 830.2083\n",
            "Epoch 188/250\n",
            "700/700 [==============================] - 0s 58us/sample - loss: 818.2917\n",
            "Epoch 189/250\n",
            "700/700 [==============================] - 0s 67us/sample - loss: 804.8076\n",
            "Epoch 190/250\n",
            "700/700 [==============================] - 0s 65us/sample - loss: 791.9185\n",
            "Epoch 191/250\n",
            "700/700 [==============================] - 0s 61us/sample - loss: 778.9214\n",
            "Epoch 192/250\n",
            "700/700 [==============================] - 0s 64us/sample - loss: 766.7101\n",
            "Epoch 193/250\n",
            "700/700 [==============================] - 0s 70us/sample - loss: 753.8247\n",
            "Epoch 194/250\n",
            "700/700 [==============================] - 0s 66us/sample - loss: 741.4491\n",
            "Epoch 195/250\n",
            "700/700 [==============================] - 0s 76us/sample - loss: 729.3279\n",
            "Epoch 196/250\n",
            "700/700 [==============================] - 0s 68us/sample - loss: 717.3658\n",
            "Epoch 197/250\n",
            "700/700 [==============================] - 0s 63us/sample - loss: 704.2083\n",
            "Epoch 198/250\n",
            "700/700 [==============================] - 0s 65us/sample - loss: 692.0171\n",
            "Epoch 199/250\n",
            "700/700 [==============================] - 0s 65us/sample - loss: 680.7545\n",
            "Epoch 200/250\n",
            "700/700 [==============================] - 0s 63us/sample - loss: 668.5483\n",
            "Epoch 201/250\n",
            "700/700 [==============================] - 0s 61us/sample - loss: 655.8164\n",
            "Epoch 202/250\n",
            "700/700 [==============================] - 0s 74us/sample - loss: 644.0181\n",
            "Epoch 203/250\n",
            "700/700 [==============================] - 0s 68us/sample - loss: 633.1252\n",
            "Epoch 204/250\n",
            "700/700 [==============================] - 0s 63us/sample - loss: 621.2343\n",
            "Epoch 205/250\n",
            "700/700 [==============================] - 0s 62us/sample - loss: 609.4012\n",
            "Epoch 206/250\n",
            "700/700 [==============================] - 0s 61us/sample - loss: 598.8425\n",
            "Epoch 207/250\n",
            "700/700 [==============================] - 0s 65us/sample - loss: 585.7616\n",
            "Epoch 208/250\n",
            "700/700 [==============================] - 0s 65us/sample - loss: 575.1516\n",
            "Epoch 209/250\n",
            "700/700 [==============================] - 0s 67us/sample - loss: 563.3835\n",
            "Epoch 210/250\n",
            "700/700 [==============================] - 0s 66us/sample - loss: 552.1013\n",
            "Epoch 211/250\n",
            "700/700 [==============================] - 0s 68us/sample - loss: 540.6808\n",
            "Epoch 212/250\n",
            "700/700 [==============================] - 0s 61us/sample - loss: 530.3716\n",
            "Epoch 213/250\n",
            "700/700 [==============================] - 0s 59us/sample - loss: 519.1522\n",
            "Epoch 214/250\n",
            "700/700 [==============================] - 0s 66us/sample - loss: 508.3848\n",
            "Epoch 215/250\n",
            "700/700 [==============================] - 0s 64us/sample - loss: 498.4402\n",
            "Epoch 216/250\n",
            "700/700 [==============================] - 0s 62us/sample - loss: 488.9119\n",
            "Epoch 217/250\n",
            "700/700 [==============================] - 0s 91us/sample - loss: 476.9257\n",
            "Epoch 218/250\n",
            "700/700 [==============================] - 0s 66us/sample - loss: 467.7184\n",
            "Epoch 219/250\n",
            "700/700 [==============================] - 0s 67us/sample - loss: 456.0519\n",
            "Epoch 220/250\n",
            "700/700 [==============================] - 0s 63us/sample - loss: 446.0768\n",
            "Epoch 221/250\n",
            "700/700 [==============================] - 0s 65us/sample - loss: 436.0441\n",
            "Epoch 222/250\n",
            "700/700 [==============================] - 0s 64us/sample - loss: 426.0533\n",
            "Epoch 223/250\n",
            "700/700 [==============================] - 0s 67us/sample - loss: 416.3485\n",
            "Epoch 224/250\n",
            "700/700 [==============================] - 0s 62us/sample - loss: 406.7797\n",
            "Epoch 225/250\n",
            "700/700 [==============================] - 0s 64us/sample - loss: 397.0086\n",
            "Epoch 226/250\n",
            "700/700 [==============================] - 0s 65us/sample - loss: 387.7309\n",
            "Epoch 227/250\n",
            "700/700 [==============================] - 0s 57us/sample - loss: 379.3213\n",
            "Epoch 228/250\n",
            "700/700 [==============================] - 0s 55us/sample - loss: 370.7211\n",
            "Epoch 229/250\n",
            "700/700 [==============================] - 0s 63us/sample - loss: 359.9440\n",
            "Epoch 230/250\n",
            "700/700 [==============================] - 0s 74us/sample - loss: 351.5953\n",
            "Epoch 231/250\n",
            "700/700 [==============================] - 0s 65us/sample - loss: 343.2822\n",
            "Epoch 232/250\n",
            "700/700 [==============================] - 0s 64us/sample - loss: 334.7169\n",
            "Epoch 233/250\n",
            "700/700 [==============================] - 0s 62us/sample - loss: 325.8113\n",
            "Epoch 234/250\n",
            "700/700 [==============================] - 0s 60us/sample - loss: 317.2891\n",
            "Epoch 235/250\n",
            "700/700 [==============================] - 0s 60us/sample - loss: 309.1526\n",
            "Epoch 236/250\n",
            "700/700 [==============================] - 0s 60us/sample - loss: 300.8382\n",
            "Epoch 237/250\n",
            "700/700 [==============================] - 0s 58us/sample - loss: 292.9036\n",
            "Epoch 238/250\n",
            "700/700 [==============================] - 0s 62us/sample - loss: 285.1440\n",
            "Epoch 239/250\n",
            "700/700 [==============================] - 0s 77us/sample - loss: 277.7238\n",
            "Epoch 240/250\n",
            "700/700 [==============================] - 0s 69us/sample - loss: 269.9261\n",
            "Epoch 241/250\n",
            "700/700 [==============================] - 0s 61us/sample - loss: 263.4711\n",
            "Epoch 242/250\n",
            "700/700 [==============================] - 0s 61us/sample - loss: 255.1123\n",
            "Epoch 243/250\n",
            "700/700 [==============================] - 0s 60us/sample - loss: 248.6435\n",
            "Epoch 244/250\n",
            "700/700 [==============================] - 0s 63us/sample - loss: 240.9791\n",
            "Epoch 245/250\n",
            "700/700 [==============================] - 0s 66us/sample - loss: 235.0490\n",
            "Epoch 246/250\n",
            "700/700 [==============================] - 0s 66us/sample - loss: 227.4529\n",
            "Epoch 247/250\n",
            "700/700 [==============================] - 0s 67us/sample - loss: 220.5393\n",
            "Epoch 248/250\n",
            "700/700 [==============================] - 0s 70us/sample - loss: 214.7908\n",
            "Epoch 249/250\n",
            "700/700 [==============================] - 0s 61us/sample - loss: 208.7597\n",
            "Epoch 250/250\n",
            "700/700 [==============================] - 0s 67us/sample - loss: 201.8981\n"
          ],
          "name": "stdout"
        },
        {
          "output_type": "execute_result",
          "data": {
            "text/plain": [
              "<tensorflow.python.keras.callbacks.History at 0x7fc197efdbe0>"
            ]
          },
          "metadata": {
            "tags": []
          },
          "execution_count": 27
        }
      ]
    },
    {
      "cell_type": "code",
      "metadata": {
        "id": "88H5gKeAU4u_",
        "colab_type": "code",
        "colab": {
          "base_uri": "https://localhost:8080/",
          "height": 419
        },
        "outputId": "f3247a16-4d82-4576-8eff-3c5b0fc9d6f3"
      },
      "source": [
        "pd.DataFrame(model.history.history)"
      ],
      "execution_count": 29,
      "outputs": [
        {
          "output_type": "execute_result",
          "data": {
            "text/html": [
              "<div>\n",
              "<style scoped>\n",
              "    .dataframe tbody tr th:only-of-type {\n",
              "        vertical-align: middle;\n",
              "    }\n",
              "\n",
              "    .dataframe tbody tr th {\n",
              "        vertical-align: top;\n",
              "    }\n",
              "\n",
              "    .dataframe thead th {\n",
              "        text-align: right;\n",
              "    }\n",
              "</style>\n",
              "<table border=\"1\" class=\"dataframe\">\n",
              "  <thead>\n",
              "    <tr style=\"text-align: right;\">\n",
              "      <th></th>\n",
              "      <th>loss</th>\n",
              "    </tr>\n",
              "  </thead>\n",
              "  <tbody>\n",
              "    <tr>\n",
              "      <th>0</th>\n",
              "      <td>256712.861250</td>\n",
              "    </tr>\n",
              "    <tr>\n",
              "      <th>1</th>\n",
              "      <td>256662.278482</td>\n",
              "    </tr>\n",
              "    <tr>\n",
              "      <th>2</th>\n",
              "      <td>256584.974464</td>\n",
              "    </tr>\n",
              "    <tr>\n",
              "      <th>3</th>\n",
              "      <td>256472.717321</td>\n",
              "    </tr>\n",
              "    <tr>\n",
              "      <th>4</th>\n",
              "      <td>256306.127232</td>\n",
              "    </tr>\n",
              "    <tr>\n",
              "      <th>...</th>\n",
              "      <td>...</td>\n",
              "    </tr>\n",
              "    <tr>\n",
              "      <th>245</th>\n",
              "      <td>227.452945</td>\n",
              "    </tr>\n",
              "    <tr>\n",
              "      <th>246</th>\n",
              "      <td>220.539303</td>\n",
              "    </tr>\n",
              "    <tr>\n",
              "      <th>247</th>\n",
              "      <td>214.790845</td>\n",
              "    </tr>\n",
              "    <tr>\n",
              "      <th>248</th>\n",
              "      <td>208.759701</td>\n",
              "    </tr>\n",
              "    <tr>\n",
              "      <th>249</th>\n",
              "      <td>201.898109</td>\n",
              "    </tr>\n",
              "  </tbody>\n",
              "</table>\n",
              "<p>250 rows × 1 columns</p>\n",
              "</div>"
            ],
            "text/plain": [
              "              loss\n",
              "0    256712.861250\n",
              "1    256662.278482\n",
              "2    256584.974464\n",
              "3    256472.717321\n",
              "4    256306.127232\n",
              "..             ...\n",
              "245     227.452945\n",
              "246     220.539303\n",
              "247     214.790845\n",
              "248     208.759701\n",
              "249     201.898109\n",
              "\n",
              "[250 rows x 1 columns]"
            ]
          },
          "metadata": {
            "tags": []
          },
          "execution_count": 29
        }
      ]
    },
    {
      "cell_type": "code",
      "metadata": {
        "id": "1tXxS7_kVF4I",
        "colab_type": "code",
        "colab": {
          "base_uri": "https://localhost:8080/",
          "height": 282
        },
        "outputId": "74d33259-4420-4efc-be8f-bf23f381d01d"
      },
      "source": [
        "loss_df=pd.DataFrame(model.history.history)\n",
        "loss_df.plot()"
      ],
      "execution_count": 30,
      "outputs": [
        {
          "output_type": "execute_result",
          "data": {
            "text/plain": [
              "<matplotlib.axes._subplots.AxesSubplot at 0x7fc13c19a4a8>"
            ]
          },
          "metadata": {
            "tags": []
          },
          "execution_count": 30
        },
        {
          "output_type": "display_data",
          "data": {
            "image/png": "[encoded data removed]",
            "text/plain": [
              "<Figure size 432x288 with 1 Axes>"
            ]
          },
          "metadata": {
            "tags": []
          }
        }
      ]
    },
    {
      "cell_type": "code",
      "metadata": {
        "id": "d77c5_XEVTFG",
        "colab_type": "code",
        "colab": {
          "base_uri": "https://localhost:8080/",
          "height": 34
        },
        "outputId": "d47d61f6-64b6-45d4-8bcb-a70723a27d5a"
      },
      "source": [
        "model.evaluate(X_test,y_test,verbose=0)"
      ],
      "execution_count": 32,
      "outputs": [
        {
          "output_type": "execute_result",
          "data": {
            "text/plain": [
              "11191.165924479166"
            ]
          },
          "metadata": {
            "tags": []
          },
          "execution_count": 32
        }
      ]
    },
    {
      "cell_type": "code",
      "metadata": {
        "id": "tuOI8I5uWKFM",
        "colab_type": "code",
        "colab": {
          "base_uri": "https://localhost:8080/",
          "height": 34
        },
        "outputId": "4dddc782-5f9c-47be-ab17-7fd8343474fb"
      },
      "source": [
        "model.evaluate(X_train,y_train,verbose=0)"
      ],
      "execution_count": 36,
      "outputs": [
        {
          "output_type": "execute_result",
          "data": {
            "text/plain": [
              "198.18594081333706"
            ]
          },
          "metadata": {
            "tags": []
          },
          "execution_count": 36
        }
      ]
    },
    {
      "cell_type": "code",
      "metadata": {
        "id": "R2vxyVyOWXRD",
        "colab_type": "code",
        "colab": {}
      },
      "source": [
        "test_prediction=model.predict(X_test)"
      ],
      "execution_count": 0,
      "outputs": []
    },
    {
      "cell_type": "code",
      "metadata": {
        "id": "uaamDJNOWeM6",
        "colab_type": "code",
        "colab": {
          "base_uri": "https://localhost:8080/",
          "height": 221
        },
        "outputId": "c9ea5b0e-975d-4240-df9c-36cc124ed600"
      },
      "source": [
        "pred_df = pd.DataFrame(y_test,columns=['Test Y'])\n",
        "test_prediction"
      ],
      "execution_count": 42,
      "outputs": [
        {
          "output_type": "execute_result",
          "data": {
            "text/plain": [
              "0      549.349609\n",
              "1      549.331177\n",
              "2      549.331238\n",
              "3      549.341431\n",
              "4      549.364258\n",
              "          ...    \n",
              "295    549.344238\n",
              "296    549.359009\n",
              "297    549.331116\n",
              "298    549.343140\n",
              "299    549.353516\n",
              "Length: 300, dtype: float32"
            ]
          },
          "metadata": {
            "tags": []
          },
          "execution_count": 42
        }
      ]
    },
    {
      "cell_type": "code",
      "metadata": {
        "id": "je3OIBhRYDHC",
        "colab_type": "code",
        "colab": {
          "base_uri": "https://localhost:8080/",
          "height": 419
        },
        "outputId": "c02849ed-e7ae-4c6f-ac39-1c59921571cc"
      },
      "source": [
        "pred_df = pd.concat([pred_df,test_prediction],axis=1)\n",
        "pred_df"
      ],
      "execution_count": 44,
      "outputs": [
        {
          "output_type": "execute_result",
          "data": {
            "text/html": [
              "<div>\n",
              "<style scoped>\n",
              "    .dataframe tbody tr th:only-of-type {\n",
              "        vertical-align: middle;\n",
              "    }\n",
              "\n",
              "    .dataframe tbody tr th {\n",
              "        vertical-align: top;\n",
              "    }\n",
              "\n",
              "    .dataframe thead th {\n",
              "        text-align: right;\n",
              "    }\n",
              "</style>\n",
              "<table border=\"1\" class=\"dataframe\">\n",
              "  <thead>\n",
              "    <tr style=\"text-align: right;\">\n",
              "      <th></th>\n",
              "      <th>Test Y</th>\n",
              "      <th>0</th>\n",
              "      <th>0</th>\n",
              "    </tr>\n",
              "  </thead>\n",
              "  <tbody>\n",
              "    <tr>\n",
              "      <th>0</th>\n",
              "      <td>402.296319</td>\n",
              "      <td>549.349609</td>\n",
              "      <td>549.349609</td>\n",
              "    </tr>\n",
              "    <tr>\n",
              "      <th>1</th>\n",
              "      <td>624.156198</td>\n",
              "      <td>549.331177</td>\n",
              "      <td>549.331177</td>\n",
              "    </tr>\n",
              "    <tr>\n",
              "      <th>2</th>\n",
              "      <td>582.455066</td>\n",
              "      <td>549.331238</td>\n",
              "      <td>549.331238</td>\n",
              "    </tr>\n",
              "    <tr>\n",
              "      <th>3</th>\n",
              "      <td>578.588606</td>\n",
              "      <td>549.341431</td>\n",
              "      <td>549.341431</td>\n",
              "    </tr>\n",
              "    <tr>\n",
              "      <th>4</th>\n",
              "      <td>371.224104</td>\n",
              "      <td>549.364258</td>\n",
              "      <td>549.364258</td>\n",
              "    </tr>\n",
              "    <tr>\n",
              "      <th>...</th>\n",
              "      <td>...</td>\n",
              "      <td>...</td>\n",
              "      <td>...</td>\n",
              "    </tr>\n",
              "    <tr>\n",
              "      <th>295</th>\n",
              "      <td>525.704657</td>\n",
              "      <td>549.344238</td>\n",
              "      <td>549.344238</td>\n",
              "    </tr>\n",
              "    <tr>\n",
              "      <th>296</th>\n",
              "      <td>502.909473</td>\n",
              "      <td>549.359009</td>\n",
              "      <td>549.359009</td>\n",
              "    </tr>\n",
              "    <tr>\n",
              "      <th>297</th>\n",
              "      <td>612.727910</td>\n",
              "      <td>549.331116</td>\n",
              "      <td>549.331116</td>\n",
              "    </tr>\n",
              "    <tr>\n",
              "      <th>298</th>\n",
              "      <td>417.569725</td>\n",
              "      <td>549.343140</td>\n",
              "      <td>549.343140</td>\n",
              "    </tr>\n",
              "    <tr>\n",
              "      <th>299</th>\n",
              "      <td>410.538250</td>\n",
              "      <td>549.353516</td>\n",
              "      <td>549.353516</td>\n",
              "    </tr>\n",
              "  </tbody>\n",
              "</table>\n",
              "<p>300 rows × 3 columns</p>\n",
              "</div>"
            ],
            "text/plain": [
              "         Test Y           0           0\n",
              "0    402.296319  549.349609  549.349609\n",
              "1    624.156198  549.331177  549.331177\n",
              "2    582.455066  549.331238  549.331238\n",
              "3    578.588606  549.341431  549.341431\n",
              "4    371.224104  549.364258  549.364258\n",
              "..          ...         ...         ...\n",
              "295  525.704657  549.344238  549.344238\n",
              "296  502.909473  549.359009  549.359009\n",
              "297  612.727910  549.331116  549.331116\n",
              "298  417.569725  549.343140  549.343140\n",
              "299  410.538250  549.353516  549.353516\n",
              "\n",
              "[300 rows x 3 columns]"
            ]
          },
          "metadata": {
            "tags": []
          },
          "execution_count": 44
        }
      ]
    },
    {
      "cell_type": "code",
      "metadata": {
        "id": "ue3cjqH9Zuas",
        "colab_type": "code",
        "colab": {}
      },
      "source": [
        "pred_df.columns = ['Test Y','Model Predictions','Model Pred']"
      ],
      "execution_count": 0,
      "outputs": []
    },
    {
      "cell_type": "code",
      "metadata": {
        "id": "Wm3z2hrlaDsL",
        "colab_type": "code",
        "colab": {
          "base_uri": "https://localhost:8080/",
          "height": 419
        },
        "outputId": "d02f8ff7-d5b8-480a-8fc4-69e084d1923c"
      },
      "source": [
        "pred_df"
      ],
      "execution_count": 49,
      "outputs": [
        {
          "output_type": "execute_result",
          "data": {
            "text/html": [
              "<div>\n",
              "<style scoped>\n",
              "    .dataframe tbody tr th:only-of-type {\n",
              "        vertical-align: middle;\n",
              "    }\n",
              "\n",
              "    .dataframe tbody tr th {\n",
              "        vertical-align: top;\n",
              "    }\n",
              "\n",
              "    .dataframe thead th {\n",
              "        text-align: right;\n",
              "    }\n",
              "</style>\n",
              "<table border=\"1\" class=\"dataframe\">\n",
              "  <thead>\n",
              "    <tr style=\"text-align: right;\">\n",
              "      <th></th>\n",
              "      <th>Test Y</th>\n",
              "      <th>Model Predictions</th>\n",
              "      <th>Model Pred</th>\n",
              "    </tr>\n",
              "  </thead>\n",
              "  <tbody>\n",
              "    <tr>\n",
              "      <th>0</th>\n",
              "      <td>402.296319</td>\n",
              "      <td>549.349609</td>\n",
              "      <td>549.349609</td>\n",
              "    </tr>\n",
              "    <tr>\n",
              "      <th>1</th>\n",
              "      <td>624.156198</td>\n",
              "      <td>549.331177</td>\n",
              "      <td>549.331177</td>\n",
              "    </tr>\n",
              "    <tr>\n",
              "      <th>2</th>\n",
              "      <td>582.455066</td>\n",
              "      <td>549.331238</td>\n",
              "      <td>549.331238</td>\n",
              "    </tr>\n",
              "    <tr>\n",
              "      <th>3</th>\n",
              "      <td>578.588606</td>\n",
              "      <td>549.341431</td>\n",
              "      <td>549.341431</td>\n",
              "    </tr>\n",
              "    <tr>\n",
              "      <th>4</th>\n",
              "      <td>371.224104</td>\n",
              "      <td>549.364258</td>\n",
              "      <td>549.364258</td>\n",
              "    </tr>\n",
              "    <tr>\n",
              "      <th>...</th>\n",
              "      <td>...</td>\n",
              "      <td>...</td>\n",
              "      <td>...</td>\n",
              "    </tr>\n",
              "    <tr>\n",
              "      <th>295</th>\n",
              "      <td>525.704657</td>\n",
              "      <td>549.344238</td>\n",
              "      <td>549.344238</td>\n",
              "    </tr>\n",
              "    <tr>\n",
              "      <th>296</th>\n",
              "      <td>502.909473</td>\n",
              "      <td>549.359009</td>\n",
              "      <td>549.359009</td>\n",
              "    </tr>\n",
              "    <tr>\n",
              "      <th>297</th>\n",
              "      <td>612.727910</td>\n",
              "      <td>549.331116</td>\n",
              "      <td>549.331116</td>\n",
              "    </tr>\n",
              "    <tr>\n",
              "      <th>298</th>\n",
              "      <td>417.569725</td>\n",
              "      <td>549.343140</td>\n",
              "      <td>549.343140</td>\n",
              "    </tr>\n",
              "    <tr>\n",
              "      <th>299</th>\n",
              "      <td>410.538250</td>\n",
              "      <td>549.353516</td>\n",
              "      <td>549.353516</td>\n",
              "    </tr>\n",
              "  </tbody>\n",
              "</table>\n",
              "<p>300 rows × 3 columns</p>\n",
              "</div>"
            ],
            "text/plain": [
              "         Test Y  Model Predictions  Model Pred\n",
              "0    402.296319         549.349609  549.349609\n",
              "1    624.156198         549.331177  549.331177\n",
              "2    582.455066         549.331238  549.331238\n",
              "3    578.588606         549.341431  549.341431\n",
              "4    371.224104         549.364258  549.364258\n",
              "..          ...                ...         ...\n",
              "295  525.704657         549.344238  549.344238\n",
              "296  502.909473         549.359009  549.359009\n",
              "297  612.727910         549.331116  549.331116\n",
              "298  417.569725         549.343140  549.343140\n",
              "299  410.538250         549.353516  549.353516\n",
              "\n",
              "[300 rows x 3 columns]"
            ]
          },
          "metadata": {
            "tags": []
          },
          "execution_count": 49
        }
      ]
    },
    {
      "cell_type": "code",
      "metadata": {
        "id": "qymHrF7GaPgB",
        "colab_type": "code",
        "colab": {
          "base_uri": "https://localhost:8080/",
          "height": 296
        },
        "outputId": "c156ef0e-fd3d-4059-f9ca-92694f03bc4d"
      },
      "source": [
        "sns.scatterplot(x='Test Y',y='Model Predictions',data=pred_df)"
      ],
      "execution_count": 51,
      "outputs": [
        {
          "output_type": "execute_result",
          "data": {
            "text/plain": [
              "<matplotlib.axes._subplots.AxesSubplot at 0x7fc13c0d85c0>"
            ]
          },
          "metadata": {
            "tags": []
          },
          "execution_count": 51
        },
        {
          "output_type": "display_data",
          "data": {
            "image/png": "[encoded data removed]",
            "text/plain": [
              "<Figure size 432x288 with 1 Axes>"
            ]
          },
          "metadata": {
            "tags": []
          }
        }
      ]
    },
    {
      "cell_type": "code",
      "metadata": {
        "id": "J3iI9KmyaZjj",
        "colab_type": "code",
        "colab": {}
      },
      "source": [
        "pred_df['Error'] = pred_df['Test Y'] - pred_df['Model Predictions']"
      ],
      "execution_count": 0,
      "outputs": []
    },
    {
      "cell_type": "code",
      "metadata": {
        "id": "1PQnr8uEalA2",
        "colab_type": "code",
        "colab": {
          "base_uri": "https://localhost:8080/",
          "height": 296
        },
        "outputId": "68963c96-f235-4b7a-a441-0217a216e38d"
      },
      "source": [
        "sns.distplot(pred_df['Error'],bins=50)"
      ],
      "execution_count": 55,
      "outputs": [
        {
          "output_type": "execute_result",
          "data": {
            "text/plain": [
              "<matplotlib.axes._subplots.AxesSubplot at 0x7fc11d9c35f8>"
            ]
          },
          "metadata": {
            "tags": []
          },
          "execution_count": 55
        },
        {
          "output_type": "display_data",
          "data": {
            "image/png": "[encoded data removed]",
            "text/plain": [
              "<Figure size 432x288 with 1 Axes>"
            ]
          },
          "metadata": {
            "tags": []
          }
        }
      ]
    },
    {
      "cell_type": "code",
      "metadata": {
        "id": "xUQxDom-avjj",
        "colab_type": "code",
        "colab": {}
      },
      "source": [
        "from sklearn.metrics import mean_absolute_error,mean_squared_error"
      ],
      "execution_count": 0,
      "outputs": []
    },
    {
      "cell_type": "code",
      "metadata": {
        "id": "GvJyhz99awUq",
        "colab_type": "code",
        "colab": {
          "base_uri": "https://localhost:8080/",
          "height": 34
        },
        "outputId": "87e5f2fd-b5c5-47b0-c481-f332aaa508c0"
      },
      "source": [
        "mean_absolute_error(pred_df['Test Y'],pred_df['Model Predictions'])"
      ],
      "execution_count": 58,
      "outputs": [
        {
          "output_type": "execute_result",
          "data": {
            "text/plain": [
              "85.08156543168352"
            ]
          },
          "metadata": {
            "tags": []
          },
          "execution_count": 58
        }
      ]
    },
    {
      "cell_type": "code",
      "metadata": {
        "id": "vmfpCbsca5bQ",
        "colab_type": "code",
        "colab": {
          "base_uri": "https://localhost:8080/",
          "height": 34
        },
        "outputId": "0e08f3a6-e421-4b53-a376-5084febc50e6"
      },
      "source": [
        "mean_squared_error(pred_df['Test Y'],pred_df['Model Predictions'])"
      ],
      "execution_count": 60,
      "outputs": [
        {
          "output_type": "execute_result",
          "data": {
            "text/plain": [
              "11191.16586772352"
            ]
          },
          "metadata": {
            "tags": []
          },
          "execution_count": 60
        }
      ]
    },
    {
      "cell_type": "code",
      "metadata": {
        "id": "0N4h0UGpbFwL",
        "colab_type": "code",
        "colab": {}
      },
      "source": [
        "\n",
        "# [[Feature1, Feature2]]\n",
        "new_gem = [[998,1000]]"
      ],
      "execution_count": 0,
      "outputs": []
    },
    {
      "cell_type": "code",
      "metadata": {
        "id": "7g-bxFrzbhZk",
        "colab_type": "code",
        "colab": {
          "base_uri": "https://localhost:8080/",
          "height": 34
        },
        "outputId": "709b6b86-cc0f-4dde-a651-556cc2f2e778"
      },
      "source": [
        "# Don't forget to scale!\n",
        "scaler.transform(new_gem)"
      ],
      "execution_count": 64,
      "outputs": [
        {
          "output_type": "execute_result",
          "data": {
            "text/plain": [
              "array([[0.14117652, 0.53968792]])"
            ]
          },
          "metadata": {
            "tags": []
          },
          "execution_count": 64
        }
      ]
    },
    {
      "cell_type": "code",
      "metadata": {
        "id": "qtj2CgIgbor5",
        "colab_type": "code",
        "colab": {}
      },
      "source": [
        "new_gem = scaler.transform(new_gem)"
      ],
      "execution_count": 0,
      "outputs": []
    },
    {
      "cell_type": "code",
      "metadata": {
        "id": "M9jRTxQEbxyM",
        "colab_type": "code",
        "colab": {
          "base_uri": "https://localhost:8080/",
          "height": 34
        },
        "outputId": "d902c707-a50f-40f0-dd53-0f068f85be06"
      },
      "source": [
        "model.predict(new_gem)"
      ],
      "execution_count": 68,
      "outputs": [
        {
          "output_type": "execute_result",
          "data": {
            "text/plain": [
              "array([[471.5849]], dtype=float32)"
            ]
          },
          "metadata": {
            "tags": []
          },
          "execution_count": 68
        }
      ]
    },
    {
      "cell_type": "code",
      "metadata": {
        "id": "_x_HAIMub0VL",
        "colab_type": "code",
        "colab": {}
      },
      "source": [
        "from tensorflow.keras.models import load_model"
      ],
      "execution_count": 0,
      "outputs": []
    },
    {
      "cell_type": "code",
      "metadata": {
        "id": "ptQRo1EBb6DF",
        "colab_type": "code",
        "colab": {}
      },
      "source": [
        "model.save('my_model.h5')  "
      ],
      "execution_count": 0,
      "outputs": []
    },
    {
      "cell_type": "code",
      "metadata": {
        "id": "Iwc_lXOEb_Q7",
        "colab_type": "code",
        "colab": {
          "base_uri": "https://localhost:8080/",
          "height": 156
        },
        "outputId": "79fcfa61-ff5a-4700-d7d7-e55ea34b820b"
      },
      "source": [
        "later_model = load_model('my_model.h5')"
      ],
      "execution_count": 73,
      "outputs": [
        {
          "output_type": "stream",
          "text": [
            "WARNING:tensorflow:From /usr/local/lib/python3.6/dist-packages/tensorflow_core/python/ops/init_ops.py:97: calling GlorotUniform.__init__ (from tensorflow.python.ops.init_ops) with dtype is deprecated and will be removed in a future version.\n",
            "Instructions for updating:\n",
            "Call initializer instance with the dtype argument instead of passing it to the constructor\n",
            "WARNING:tensorflow:From /usr/local/lib/python3.6/dist-packages/tensorflow_core/python/ops/init_ops.py:97: calling Zeros.__init__ (from tensorflow.python.ops.init_ops) with dtype is deprecated and will be removed in a future version.\n",
            "Instructions for updating:\n",
            "Call initializer instance with the dtype argument instead of passing it to the constructor\n",
            "WARNING:tensorflow:Sequential models without an `input_shape` passed to the first layer cannot reload their optimizer state. As a result, your model isstarting with a freshly initialized optimizer.\n"
          ],
          "name": "stdout"
        }
      ]
    },
    {
      "cell_type": "code",
      "metadata": {
        "id": "8TehKOJrcHUU",
        "colab_type": "code",
        "colab": {
          "base_uri": "https://localhost:8080/",
          "height": 34
        },
        "outputId": "84d71b9d-35ca-4fd3-9e14-1203d79a605b"
      },
      "source": [
        "later_model.predict(new_gem)"
      ],
      "execution_count": 74,
      "outputs": [
        {
          "output_type": "execute_result",
          "data": {
            "text/plain": [
              "array([[471.5849]], dtype=float32)"
            ]
          },
          "metadata": {
            "tags": []
          },
          "execution_count": 74
        }
      ]
    },
    {
      "cell_type": "code",
      "metadata": {
        "id": "bT1_Mv7ocH7Z",
        "colab_type": "code",
        "colab": {}
      },
      "source": [
        ""
      ],
      "execution_count": 0,
      "outputs": []
    }
  ]
}